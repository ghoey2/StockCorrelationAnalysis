{
 "cells": [
  {
   "cell_type": "code",
   "execution_count": 51,
   "metadata": {},
   "outputs": [],
   "source": [
    "import numpy as np\n",
    "import json\n",
    "import scipy"
   ]
  },
  {
   "cell_type": "code",
   "execution_count": 40,
   "metadata": {},
   "outputs": [],
   "source": [
    "sp_list = []\n",
    "time_dict = {}\n",
    "\n",
    "#grab a list of stocks\n",
    "with open(\"s&p_500.txt\", \"r\") as sp500:\n",
    "  for line in sp500:\n",
    "    stripped_line = line.strip()\n",
    "    sp_list.append(stripped_line)"
   ]
  },
  {
   "cell_type": "code",
   "execution_count": 41,
   "metadata": {},
   "outputs": [],
   "source": [
    "with open('Astock_data.txt') as json_data:\n",
    "        data = json.load(json_data)\n",
    "        first_keys = list(data['A'].keys())\n",
    "for stock in sp_list[:40]:\n",
    "    file_path = str(stock) + \"stock_data.txt\"\n",
    "    with open(file_path) as json_data:\n",
    "        data = json.load(json_data)\n",
    "        data_list = []\n",
    "        key_list = []\n",
    "        for key in first_keys:\n",
    "            if key in data[stock].keys():\n",
    "                key_list.append(key)\n",
    "        time_dict[stock] = key_list\n"
   ]
  },
  {
   "cell_type": "code",
   "execution_count": null,
   "metadata": {},
   "outputs": [],
   "source": [
    "#Cut down the data to have matching keys\n",
    "for i in range(100):\n",
    "    for stock in time_dict.keys():\n",
    "        for key in first_keys:\n",
    "            if key not in time_dict[stock]:\n",
    "                first_keys.remove(key)\n",
    "        times = time_dict[stock]\n",
    "        for key in time_dict[stock]:\n",
    "            if key not in first_keys:\n",
    "                times.remove(key)\n",
    "        time_dict[stock] = times  \n",
    "\n",
    "stock_dict = {}\n",
    "for stock in sp_list[:40]:\n",
    "    file_path = str(stock) + \"stock_data.txt\"\n",
    "    with open(file_path) as json_data:\n",
    "        data = json.load(json_data)\n",
    "    for key in first_keys:\n",
    "        data_list.append(data[stock][key]) \n",
    "    stock_dict[stock] = data_list "
   ]
  },
  {
   "cell_type": "code",
   "execution_count": null,
   "metadata": {},
   "outputs": [],
   "source": [
    "with ('ticker_spearman_coefficients.csv', 'w') as coeffs_file:\n",
    "    for stock1 in stock_dict.keys():\n",
    "        for stock2 in stock_dict.keys():\n",
    "            data1 = np.array(stock_dict[stock1])\n",
    "            data2 = np.array(stock_dict[stock2])\n",
    "            spearmanr = scipy.stats.spearmanr(data1, data2)\n",
    "            coeffs_file.write(stock1 + ',' + stock2 + ',' + spearmanr + '\\n')"
   ]
  },
  {
   "cell_type": "code",
   "execution_count": null,
   "metadata": {},
   "outputs": [],
   "source": []
  }
 ],
 "metadata": {
  "interpreter": {
   "hash": "eff61f9bb3d8f26d66e8d5882310aa806232542c4d1805ba0c777229d4fd1c59"
  },
  "kernelspec": {
   "display_name": "Python 3.8.8 64-bit ('base': conda)",
   "language": "python",
   "name": "python3"
  },
  "language_info": {
   "codemirror_mode": {
    "name": "ipython",
    "version": 3
   },
   "file_extension": ".py",
   "mimetype": "text/x-python",
   "name": "python",
   "nbconvert_exporter": "python",
   "pygments_lexer": "ipython3",
   "version": "3.8.8"
  },
  "orig_nbformat": 4
 },
 "nbformat": 4,
 "nbformat_minor": 2
}
