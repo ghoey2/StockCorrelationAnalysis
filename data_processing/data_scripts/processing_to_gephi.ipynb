{
 "cells": [
  {
   "cell_type": "code",
   "execution_count": 157,
   "metadata": {},
   "outputs": [],
   "source": [
    "import pandas as pd\n",
    "import numpy as np"
   ]
  },
  {
   "cell_type": "code",
   "execution_count": 158,
   "metadata": {},
   "outputs": [],
   "source": [
    "data_dir = '../datasets/'"
   ]
  },
  {
   "cell_type": "code",
   "execution_count": 159,
   "metadata": {},
   "outputs": [],
   "source": [
    "df_directed = pd.read_csv(data_dir + 'directed_spearman_coefficients.csv')\n",
    "df_undirected = pd.read_csv(data_dir + 'spearman_coefficients.csv')"
   ]
  },
  {
   "cell_type": "code",
   "execution_count": 160,
   "metadata": {},
   "outputs": [
    {
     "data": {
      "text/plain": [
       "0         1.000000\n",
       "1         0.502431\n",
       "2         0.532829\n",
       "3        -0.353317\n",
       "4        -0.021576\n",
       "            ...   \n",
       "253004    0.439623\n",
       "253005   -0.885281\n",
       "253006    0.790854\n",
       "253007    0.385218\n",
       "253008    1.000000\n",
       "Name: spearman, Length: 253009, dtype: float64"
      ]
     },
     "execution_count": 160,
     "metadata": {},
     "output_type": "execute_result"
    }
   ],
   "source": [
    "df_directed['spearman']"
   ]
  },
  {
   "cell_type": "code",
   "execution_count": 161,
   "metadata": {},
   "outputs": [],
   "source": [
    "def ReLu(x):\n",
    "    if x > 0:\n",
    "        return x\n",
    "    else:\n",
    "        return 0"
   ]
  },
  {
   "cell_type": "code",
   "execution_count": 162,
   "metadata": {},
   "outputs": [],
   "source": [
    "df_directed = df_directed[df_directed['spearman'] > 0.6]\n",
    "df_undirected = df_undirected[df_undirected['spearman'] > 0.6]"
   ]
  },
  {
   "cell_type": "code",
   "execution_count": 166,
   "metadata": {},
   "outputs": [
    {
     "data": {
      "text/html": [
       "<div>\n",
       "<style scoped>\n",
       "    .dataframe tbody tr th:only-of-type {\n",
       "        vertical-align: middle;\n",
       "    }\n",
       "\n",
       "    .dataframe tbody tr th {\n",
       "        vertical-align: top;\n",
       "    }\n",
       "\n",
       "    .dataframe thead th {\n",
       "        text-align: right;\n",
       "    }\n",
       "</style>\n",
       "<table border=\"1\" class=\"dataframe\">\n",
       "  <thead>\n",
       "    <tr style=\"text-align: right;\">\n",
       "      <th></th>\n",
       "      <th>stock1</th>\n",
       "      <th>stock2</th>\n",
       "      <th>spearman</th>\n",
       "      <th>pval</th>\n",
       "    </tr>\n",
       "  </thead>\n",
       "  <tbody>\n",
       "    <tr>\n",
       "      <th>159459</th>\n",
       "      <td>MSFT</td>\n",
       "      <td>ACN</td>\n",
       "      <td>0.779268</td>\n",
       "      <td>7.176607e-76</td>\n",
       "    </tr>\n",
       "    <tr>\n",
       "      <th>159460</th>\n",
       "      <td>MSFT</td>\n",
       "      <td>ADBE</td>\n",
       "      <td>0.752306</td>\n",
       "      <td>5.934308e-68</td>\n",
       "    </tr>\n",
       "    <tr>\n",
       "      <th>159461</th>\n",
       "      <td>MSFT</td>\n",
       "      <td>ADI</td>\n",
       "      <td>0.804343</td>\n",
       "      <td>2.612692e-84</td>\n",
       "    </tr>\n",
       "    <tr>\n",
       "      <th>159463</th>\n",
       "      <td>MSFT</td>\n",
       "      <td>ADP</td>\n",
       "      <td>0.841954</td>\n",
       "      <td>1.428393e-99</td>\n",
       "    </tr>\n",
       "    <tr>\n",
       "      <th>159473</th>\n",
       "      <td>MSFT</td>\n",
       "      <td>ALB</td>\n",
       "      <td>0.870074</td>\n",
       "      <td>7.116165e-114</td>\n",
       "    </tr>\n",
       "    <tr>\n",
       "      <th>...</th>\n",
       "      <td>...</td>\n",
       "      <td>...</td>\n",
       "      <td>...</td>\n",
       "      <td>...</td>\n",
       "    </tr>\n",
       "    <tr>\n",
       "      <th>159935</th>\n",
       "      <td>MSFT</td>\n",
       "      <td>WM</td>\n",
       "      <td>0.619094</td>\n",
       "      <td>4.205624e-40</td>\n",
       "    </tr>\n",
       "    <tr>\n",
       "      <th>159942</th>\n",
       "      <td>MSFT</td>\n",
       "      <td>WY</td>\n",
       "      <td>0.628525</td>\n",
       "      <td>1.243578e-41</td>\n",
       "    </tr>\n",
       "    <tr>\n",
       "      <th>159945</th>\n",
       "      <td>MSFT</td>\n",
       "      <td>XLNX</td>\n",
       "      <td>0.712559</td>\n",
       "      <td>5.577647e-58</td>\n",
       "    </tr>\n",
       "    <tr>\n",
       "      <th>159951</th>\n",
       "      <td>MSFT</td>\n",
       "      <td>ZBRA</td>\n",
       "      <td>0.881308</td>\n",
       "      <td>1.485228e-120</td>\n",
       "    </tr>\n",
       "    <tr>\n",
       "      <th>159953</th>\n",
       "      <td>MSFT</td>\n",
       "      <td>ZTS</td>\n",
       "      <td>0.765893</td>\n",
       "      <td>8.262588e-72</td>\n",
       "    </tr>\n",
       "  </tbody>\n",
       "</table>\n",
       "<p>125 rows × 4 columns</p>\n",
       "</div>"
      ],
      "text/plain": [
       "       stock1 stock2  spearman           pval\n",
       "159459   MSFT    ACN  0.779268   7.176607e-76\n",
       "159460   MSFT   ADBE  0.752306   5.934308e-68\n",
       "159461   MSFT    ADI  0.804343   2.612692e-84\n",
       "159463   MSFT    ADP  0.841954   1.428393e-99\n",
       "159473   MSFT    ALB  0.870074  7.116165e-114\n",
       "...       ...    ...       ...            ...\n",
       "159935   MSFT     WM  0.619094   4.205624e-40\n",
       "159942   MSFT     WY  0.628525   1.243578e-41\n",
       "159945   MSFT   XLNX  0.712559   5.577647e-58\n",
       "159951   MSFT   ZBRA  0.881308  1.485228e-120\n",
       "159953   MSFT    ZTS  0.765893   8.262588e-72\n",
       "\n",
       "[125 rows x 4 columns]"
      ]
     },
     "execution_count": 166,
     "metadata": {},
     "output_type": "execute_result"
    }
   ],
   "source": [
    "df_undirected = df_undirected[df_undirected['stock1'] == 'MSFT']\n",
    "df_undirected = df_undirected[df_undirected['stock2'] == 'MSFT']"
   ]
  },
  {
   "cell_type": "code",
   "execution_count": 130,
   "metadata": {},
   "outputs": [
    {
     "name": "stdout",
     "output_type": "stream",
     "text": [
      "0         1.000000\n",
      "1         0.502431\n",
      "2         0.532829\n",
      "3         0.000000\n",
      "4         0.000000\n",
      "            ...   \n",
      "253004    0.439623\n",
      "253005    0.000000\n",
      "253006    0.790854\n",
      "253007    0.385218\n",
      "253008    1.000000\n",
      "Name: spearman, Length: 253009, dtype: float64\n",
      "0         1.000000\n",
      "1         0.477640\n",
      "2         0.536912\n",
      "3         0.000000\n",
      "4         0.000000\n",
      "            ...   \n",
      "253004    0.413676\n",
      "253005    0.000000\n",
      "253006    0.803894\n",
      "253007    0.339901\n",
      "253008    1.000000\n",
      "Name: spearman, Length: 253009, dtype: float64\n"
     ]
    }
   ],
   "source": [
    "df_directed['spearman'] = [ReLu(x) for x in df_directed['spearman']]\n",
    "df_undirected['spearman'] = [ReLu(x) for x in df_undirected['spearman']]\n",
    "print(df_directed['spearman'])\n",
    "print(df_undirected['spearman'])"
   ]
  },
  {
   "cell_type": "code",
   "execution_count": 131,
   "metadata": {},
   "outputs": [],
   "source": [
    "df_directed['exponent_spearman'] = [np.exp(x) for x in df_directed['spearman']]\n",
    "df_undirected['exponent_spearman'] = [np.exp(x) for x in df_undirected['spearman']]"
   ]
  },
  {
   "cell_type": "code",
   "execution_count": 132,
   "metadata": {},
   "outputs": [],
   "source": [
    "df_directed = df_directed.rename(columns={'stock1':'source', 'stock2':'target', 'exponent_spearman':'weight'})\n",
    "df_undirected = df_undirected.rename(columns={'stock1':'source', 'stock2':'target', 'exponent_spearman':'weight'})"
   ]
  },
  {
   "cell_type": "code",
   "execution_count": 133,
   "metadata": {},
   "outputs": [],
   "source": [
    "df_directed = df_directed[df_directed['weight'] > np.exp(0.6)]\n",
    "df_undirected = df_undirected[df_undirected['weight'] > np.exp(0.6)]"
   ]
  },
  {
   "cell_type": "code",
   "execution_count": 134,
   "metadata": {},
   "outputs": [],
   "source": [
    "df_directed.to_csv(data_dir + 'edgelist_directed.csv', index=False)\n",
    "df_undirected.to_csv(data_dir + 'edgelist_undirected.csv', index=False)"
   ]
  }
 ],
 "metadata": {
  "interpreter": {
   "hash": "eff61f9bb3d8f26d66e8d5882310aa806232542c4d1805ba0c777229d4fd1c59"
  },
  "kernelspec": {
   "display_name": "Python 3.8.8 64-bit ('base': conda)",
   "language": "python",
   "name": "python3"
  },
  "language_info": {
   "codemirror_mode": {
    "name": "ipython",
    "version": 3
   },
   "file_extension": ".py",
   "mimetype": "text/x-python",
   "name": "python",
   "nbconvert_exporter": "python",
   "pygments_lexer": "ipython3",
   "version": "3.8.8"
  },
  "orig_nbformat": 4
 },
 "nbformat": 4,
 "nbformat_minor": 2
}
